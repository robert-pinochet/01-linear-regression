{
 "cells": [
  {
   "cell_type": "code",
   "execution_count": 1,
   "id": "7180dcce",
   "metadata": {},
   "outputs": [],
   "source": [
    "import pandas as pd\n",
    "import numpy as np\n",
    "\n",
    "import statsmodels.api as sm\n",
    "from statsmodels.stats.outliers_influence import variance_inflation_factor\n",
    "\n",
    "from sklearn.linear_model import LinearRegression\n",
    "from sklearn.metrics import mean_absolute_error, root_mean_squared_error\n",
    "from sklearn.model_selection import train_test_split\n",
    "\n",
    "import matplotlib.pyplot as plt\n",
    "import seaborn as sns"
   ]
  },
  {
   "cell_type": "markdown",
   "id": "3ee89836",
   "metadata": {},
   "source": [
    "(0) Load"
   ]
  },
  {
   "cell_type": "code",
   "execution_count": 3,
   "id": "82b39ea1",
   "metadata": {},
   "outputs": [
    {
     "name": "stdout",
     "output_type": "stream",
     "text": [
      "<class 'pandas.core.frame.DataFrame'>\n",
      "Index: 1050 entries, 0 to 1235\n",
      "Data columns (total 7 columns):\n",
      " #   Column                 Non-Null Count  Dtype  \n",
      "---  ------                 --------------  -----  \n",
      " 0   mother_gestation_days  1050 non-null   float64\n",
      " 1   parity                 1050 non-null   int64  \n",
      " 2   mother_age             1050 non-null   float64\n",
      " 3   smoke                  1042 non-null   float64\n",
      " 4   mother_weight_kg       1050 non-null   float64\n",
      " 5   mother_height_cm       1050 non-null   float64\n",
      " 6   baby_bwt_kg            1050 non-null   float64\n",
      "dtypes: float64(6), int64(1)\n",
      "memory usage: 65.6 KB\n",
      "None\n"
     ]
    },
    {
     "data": {
      "text/html": [
       "<div>\n",
       "<style scoped>\n",
       "    .dataframe tbody tr th:only-of-type {\n",
       "        vertical-align: middle;\n",
       "    }\n",
       "\n",
       "    .dataframe tbody tr th {\n",
       "        vertical-align: top;\n",
       "    }\n",
       "\n",
       "    .dataframe thead th {\n",
       "        text-align: right;\n",
       "    }\n",
       "</style>\n",
       "<table border=\"1\" class=\"dataframe\">\n",
       "  <thead>\n",
       "    <tr style=\"text-align: right;\">\n",
       "      <th></th>\n",
       "      <th>mother_gestation_days</th>\n",
       "      <th>parity</th>\n",
       "      <th>mother_age</th>\n",
       "      <th>smoke</th>\n",
       "      <th>mother_weight_kg</th>\n",
       "      <th>mother_height_cm</th>\n",
       "      <th>baby_bwt_kg</th>\n",
       "    </tr>\n",
       "  </thead>\n",
       "  <tbody>\n",
       "    <tr>\n",
       "      <th>0</th>\n",
       "      <td>284.0</td>\n",
       "      <td>0</td>\n",
       "      <td>27.0</td>\n",
       "      <td>0.0</td>\n",
       "      <td>45.351474</td>\n",
       "      <td>157.48</td>\n",
       "      <td>3.401939</td>\n",
       "    </tr>\n",
       "    <tr>\n",
       "      <th>1</th>\n",
       "      <td>282.0</td>\n",
       "      <td>0</td>\n",
       "      <td>33.0</td>\n",
       "      <td>0.0</td>\n",
       "      <td>61.224490</td>\n",
       "      <td>162.56</td>\n",
       "      <td>3.203493</td>\n",
       "    </tr>\n",
       "    <tr>\n",
       "      <th>2</th>\n",
       "      <td>279.0</td>\n",
       "      <td>0</td>\n",
       "      <td>28.0</td>\n",
       "      <td>1.0</td>\n",
       "      <td>52.154195</td>\n",
       "      <td>162.56</td>\n",
       "      <td>3.628735</td>\n",
       "    </tr>\n",
       "    <tr>\n",
       "      <th>4</th>\n",
       "      <td>282.0</td>\n",
       "      <td>0</td>\n",
       "      <td>23.0</td>\n",
       "      <td>1.0</td>\n",
       "      <td>56.689342</td>\n",
       "      <td>170.18</td>\n",
       "      <td>3.061745</td>\n",
       "    </tr>\n",
       "    <tr>\n",
       "      <th>5</th>\n",
       "      <td>286.0</td>\n",
       "      <td>0</td>\n",
       "      <td>25.0</td>\n",
       "      <td>0.0</td>\n",
       "      <td>42.176871</td>\n",
       "      <td>157.48</td>\n",
       "      <td>3.855531</td>\n",
       "    </tr>\n",
       "  </tbody>\n",
       "</table>\n",
       "</div>"
      ],
      "text/plain": [
       "   mother_gestation_days  parity  mother_age  smoke  mother_weight_kg  \\\n",
       "0                  284.0       0        27.0    0.0         45.351474   \n",
       "1                  282.0       0        33.0    0.0         61.224490   \n",
       "2                  279.0       0        28.0    1.0         52.154195   \n",
       "4                  282.0       0        23.0    1.0         56.689342   \n",
       "5                  286.0       0        25.0    0.0         42.176871   \n",
       "\n",
       "   mother_height_cm  baby_bwt_kg  \n",
       "0            157.48     3.401939  \n",
       "1            162.56     3.203493  \n",
       "2            162.56     3.628735  \n",
       "4            170.18     3.061745  \n",
       "5            157.48     3.855531  "
      ]
     },
     "execution_count": 3,
     "metadata": {},
     "output_type": "execute_result"
    }
   ],
   "source": [
    "file = '/Users/robertpinochetgomez/GitHub/01-linear-regression/01-datasets/df_babies_no_outliers.parquet'\n",
    "\n",
    "df_babies = pd.read_parquet(file)\n",
    "\n",
    "print(df_babies.info())\n",
    "df_babies.head()"
   ]
  },
  {
   "cell_type": "markdown",
   "id": "f8ff8ceb",
   "metadata": {},
   "source": [
    "(1) Simple Linear Regression"
   ]
  },
  {
   "cell_type": "markdown",
   "id": "08c2859f",
   "metadata": {},
   "source": [
    "- How affects gestation days on birthweight"
   ]
  },
  {
   "cell_type": "code",
   "execution_count": 14,
   "id": "a521feca",
   "metadata": {},
   "outputs": [
    {
     "name": "stdout",
     "output_type": "stream",
     "text": [
      "                            OLS Regression Results                            \n",
      "==============================================================================\n",
      "Dep. Variable:            baby_bwt_kg   R-squared:                       0.138\n",
      "Model:                            OLS   Adj. R-squared:                  0.138\n",
      "Method:                 Least Squares   F-statistic:                     168.5\n",
      "Date:                Sat, 03 May 2025   Prob (F-statistic):           7.88e-36\n",
      "Time:                        23:55:26   Log-Likelihood:                -602.16\n",
      "No. Observations:                1050   AIC:                             1208.\n",
      "Df Residuals:                    1048   BIC:                             1218.\n",
      "Df Model:                           1                                         \n",
      "Covariance Type:            nonrobust                                         \n",
      "=========================================================================================\n",
      "                            coef    std err          t      P>|t|      [0.025      0.975]\n",
      "-----------------------------------------------------------------------------------------\n",
      "const                    -0.8272      0.327     -2.533      0.011      -1.468      -0.186\n",
      "mother_gestation_days     0.0151      0.001     12.979      0.000       0.013       0.017\n",
      "==============================================================================\n",
      "Omnibus:                        5.048   Durbin-Watson:                   2.013\n",
      "Prob(Omnibus):                  0.080   Jarque-Bera (JB):                4.457\n",
      "Skew:                           0.094   Prob(JB):                        0.108\n",
      "Kurtosis:                       2.742   Cond. No.                     6.90e+03\n",
      "==============================================================================\n",
      "\n",
      "Notes:\n",
      "[1] Standard Errors assume that the covariance matrix of the errors is correctly specified.\n",
      "[2] The condition number is large, 6.9e+03. This might indicate that there are\n",
      "strong multicollinearity or other numerical problems.\n"
     ]
    }
   ],
   "source": [
    "x_vars = df_babies[['mother_gestation_days']]\n",
    "y_var = df_babies['baby_bwt_kg']\n",
    "\n",
    "x_vars = sm.add_constant(x_vars)\n",
    "\n",
    "model = sm.OLS(y_var, x_vars, missing=\"drop\", hasconst=True).fit()\n",
    "\n",
    "print(model.summary())"
   ]
  },
  {
   "cell_type": "code",
   "execution_count": null,
   "id": "24e257e9",
   "metadata": {},
   "outputs": [],
   "source": []
  }
 ],
 "metadata": {
  "kernelspec": {
   "display_name": "base",
   "language": "python",
   "name": "python3"
  },
  "language_info": {
   "codemirror_mode": {
    "name": "ipython",
    "version": 3
   },
   "file_extension": ".py",
   "mimetype": "text/x-python",
   "name": "python",
   "nbconvert_exporter": "python",
   "pygments_lexer": "ipython3",
   "version": "3.9.19"
  }
 },
 "nbformat": 4,
 "nbformat_minor": 5
}
